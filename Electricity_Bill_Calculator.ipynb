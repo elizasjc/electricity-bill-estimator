{
 "cells": [
  {
   "cell_type": "code",
   "execution_count": 3,
   "id": "a4fa2439",
   "metadata": {},
   "outputs": [
    {
     "name": "stdout",
     "output_type": "stream",
     "text": [
      "Appliance-wise energy usage (kWh):\n",
      "Fan: 27.0 kWh\n",
      "AC: 225.0 kWh\n",
      "Light: 14.4 kWh\n",
      "Fridge: 144.0 kWh\n",
      "\n",
      "Total Units Consumed: 410.4 kWh\n",
      "Estimated Bill: ₹2872.8\n"
     ]
    }
   ],
   "source": [
    "# Example input: how many appliances, used for how many hours per day\n",
    "usage_data = {\n",
    "    \"Fan\": {\"quantity\": 2, \"hours_per_day\": 6},\n",
    "    \"AC\": {\"quantity\": 1, \"hours_per_day\": 5},\n",
    "    \"Light\": {\"quantity\": 4, \"hours_per_day\": 8},\n",
    "    \"Fridge\": {\"quantity\": 1, \"hours_per_day\": 24}\n",
    "}\n",
    "\n",
    "# Call the function\n",
    "bill, units, breakdown = calculate_bill(appliance_power, usage_data)\n",
    "\n",
    "# Print the result\n",
    "print(\"Appliance-wise energy usage (kWh):\")\n",
    "for appliance, kwh in breakdown.items():\n",
    "    print(f\"{appliance}: {kwh} kWh\")\n",
    "\n",
    "print(f\"\\nTotal Units Consumed: {units} kWh\")\n",
    "print(f\"Estimated Bill: ₹{bill}\")\n"
   ]
  },
  {
   "cell_type": "code",
   "execution_count": 2,
   "id": "0f9438c1",
   "metadata": {},
   "outputs": [],
   "source": [
    "def calculate_bill(appliance_data, usage_data, rate_per_kwh=7, days=30):\n",
    "    total_kwh = 0\n",
    "    breakdown = {}\n",
    "\n",
    "    for appliance, details in usage_data.items():\n",
    "        power = appliance_data.get(appliance, 0)\n",
    "        quantity = details['quantity']\n",
    "        hours = details['hours_per_day']\n",
    "        \n",
    "        # Calculate energy for this appliance\n",
    "        energy = (power * hours * days * quantity) / 1000  # in kWh\n",
    "        breakdown[appliance] = round(energy, 2)\n",
    "        total_kwh += energy\n",
    "\n",
    "    bill_amount = total_kwh * rate_per_kwh\n",
    "    return round(bill_amount, 2), round(total_kwh, 2), breakdown\n"
   ]
  },
  {
   "cell_type": "code",
   "execution_count": 1,
   "id": "8ef4e715",
   "metadata": {},
   "outputs": [],
   "source": [
    "# Appliance power ratings in Watts (W)\n",
    "appliance_power = {\n",
    "    \"Fan\": 75,\n",
    "    \"Light\": 15,\n",
    "    \"AC\": 1500,\n",
    "    \"Fridge\": 200,\n",
    "    \"TV\": 100,\n",
    "    \"Washing Machine\": 500,\n",
    "    \"Heater\": 2000,\n",
    "    \"Computer\": 250\n",
    "}\n",
    "\n"
   ]
  }
 ],
 "metadata": {
  "kernelspec": {
   "display_name": "base",
   "language": "python",
   "name": "python3"
  },
  "language_info": {
   "codemirror_mode": {
    "name": "ipython",
    "version": 3
   },
   "file_extension": ".py",
   "mimetype": "text/x-python",
   "name": "python",
   "nbconvert_exporter": "python",
   "pygments_lexer": "ipython3",
   "version": "3.11.7"
  }
 },
 "nbformat": 4,
 "nbformat_minor": 5
}
